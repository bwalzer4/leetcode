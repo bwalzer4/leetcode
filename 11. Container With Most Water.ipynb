{
 "cells": [
  {
   "cell_type": "code",
   "execution_count": 37,
   "id": "professional-journey",
   "metadata": {},
   "outputs": [],
   "source": [
    "def maxArea(height):\n",
    "    left = 0\n",
    "    right = len(height) - 1\n",
    "    max_val = 0\n",
    "    while left < right:\n",
    "        vol = min(height[left], height[right]) * (right - left)\n",
    "        if vol > max_val:\n",
    "            max_val = vol\n",
    "        if height[left] > height[right]:\n",
    "            right -= 1\n",
    "        else:\n",
    "            left += 1\n",
    "    return max_val"
   ]
  },
  {
   "cell_type": "code",
   "execution_count": 63,
   "id": "suitable-charge",
   "metadata": {},
   "outputs": [],
   "source": [
    "test = [1, 8, 6, 2, 5, 4, 8, 3, 7]"
   ]
  },
  {
   "cell_type": "code",
   "execution_count": 64,
   "id": "signal-birmingham",
   "metadata": {},
   "outputs": [
    {
     "ename": "IndexError",
     "evalue": "list index out of range",
     "output_type": "error",
     "traceback": [
      "\u001b[1;31m---------------------------------------------------------------------------\u001b[0m",
      "\u001b[1;31mIndexError\u001b[0m                                Traceback (most recent call last)",
      "\u001b[1;32m<ipython-input-64-f6138bd03f31>\u001b[0m in \u001b[0;36m<module>\u001b[1;34m\u001b[0m\n\u001b[1;32m----> 1\u001b[1;33m \u001b[0mtest\u001b[0m\u001b[1;33m[\u001b[0m\u001b[0mlen\u001b[0m\u001b[1;33m(\u001b[0m\u001b[0mtest\u001b[0m\u001b[1;33m)\u001b[0m\u001b[1;33m]\u001b[0m\u001b[1;33m\u001b[0m\u001b[1;33m\u001b[0m\u001b[0m\n\u001b[0m",
      "\u001b[1;31mIndexError\u001b[0m: list index out of range"
     ]
    }
   ],
   "source": [
    "test[len(test)]"
   ]
  },
  {
   "cell_type": "code",
   "execution_count": 67,
   "id": "together-explanation",
   "metadata": {},
   "outputs": [],
   "source": [
    "left = 0\n",
    "right = len(test) - 1\n",
    "max_val = 0\n",
    "while left < right:\n",
    "    vol = min(test[left], test[right]) * (right - left)\n",
    "    if vol > max_val:\n",
    "        max_val = vol\n",
    "    if test[left] > test[right]:\n",
    "        right -= 1\n",
    "    else:\n",
    "        left += 1\n",
    "    "
   ]
  },
  {
   "cell_type": "code",
   "execution_count": 68,
   "id": "architectural-encyclopedia",
   "metadata": {},
   "outputs": [
    {
     "data": {
      "text/plain": [
       "49"
      ]
     },
     "execution_count": 68,
     "metadata": {},
     "output_type": "execute_result"
    }
   ],
   "source": [
    "max_val\n"
   ]
  },
  {
   "cell_type": "code",
   "execution_count": null,
   "id": "automated-russian",
   "metadata": {},
   "outputs": [],
   "source": []
  }
 ],
 "metadata": {
  "kernelspec": {
   "display_name": "Python 3",
   "language": "python",
   "name": "python3"
  },
  "language_info": {
   "codemirror_mode": {
    "name": "ipython",
    "version": 3
   },
   "file_extension": ".py",
   "mimetype": "text/x-python",
   "name": "python",
   "nbconvert_exporter": "python",
   "pygments_lexer": "ipython3",
   "version": "3.7.10"
  }
 },
 "nbformat": 4,
 "nbformat_minor": 5
}
