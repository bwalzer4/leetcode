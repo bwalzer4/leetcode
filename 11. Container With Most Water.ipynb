{
 "cells": [
  {
   "cell_type": "code",
   "execution_count": 37,
   "id": "professional-journey",
   "metadata": {},
   "outputs": [],
   "source": [
    "def maxArea(height):\n",
    "    left = 0\n",
    "    right = len(height) - 1\n",
    "    max_val = 0\n",
    "    while left < right:\n",
    "        vol = min(height[left], height[right]) * (right - left)\n",
    "        if vol > max_val:\n",
    "            max_val = vol\n",
    "        if height[left] > height[right]:\n",
    "            right -= 1\n",
    "        else:\n",
    "            left += 1\n",
    "    return max_val"
   ]
  }
