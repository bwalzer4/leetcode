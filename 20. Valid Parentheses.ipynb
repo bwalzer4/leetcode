{
 "cells": [
  {
   "cell_type": "code",
   "execution_count": 51,
   "id": "05286a00",
   "metadata": {},
   "outputs": [],
   "source": [
    "def isValid(s):\n",
    "    print(s)\n",
    "    if len(s) == 0:\n",
    "        return True\n",
    "    else:\n",
    "    \n",
    "        p_map = {')' : '(',\n",
    "                 '}' : '{',\n",
    "                 ']' : '[' }\n",
    "\n",
    "        cls_lst = [i for i,x in enumerate(s) if x in list(p_map.keys())]\n",
    "        \n",
    "        if len(cls_lst) == 0:\n",
    "            print('en(cls_lst)')\n",
    "            return False\n",
    "        else:\n",
    "            cls_idx = min(cls_lst)\n",
    "\n",
    "            if cls_idx == 0:\n",
    "                print('cls_idx == 0')\n",
    "                return False\n",
    "            elif s[cls_idx-1] != p_map[s[cls_idx]]:\n",
    "                return False\n",
    "            else:\n",
    "                return isValid(s[:cls_idx-1] + s[cls_idx+1:])\n",
    "\n",
    "        \n",
    "   "
   ]
  },
  {
   "cell_type": "code",
   "execution_count": 53,
   "id": "a6ac3187",
   "metadata": {},
   "outputs": [],
   "source": [
    "s = \"{{}[][[[]]]}\""
   ]
  },
  {
   "cell_type": "code",
   "execution_count": 54,
   "id": "6a91b28b",
   "metadata": {},
   "outputs": [
    {
     "name": "stdout",
     "output_type": "stream",
     "text": [
      "{{}[][[[]]]}\n",
      "{[][[[]]]}\n",
      "{[[[]]]}\n",
      "{[[]]}\n",
      "{[]}\n",
      "{}\n",
      "\n"
     ]
    },
    {
     "data": {
      "text/plain": [
       "True"
      ]
     },
     "execution_count": 54,
     "metadata": {},
     "output_type": "execute_result"
    }
   ],
   "source": [
    "isValid(s)"
   ]
  }
 ],
 "metadata": {
  "kernelspec": {
   "display_name": "Python 3 (ipykernel)",
   "language": "python",
   "name": "python3"
  },
  "language_info": {
   "codemirror_mode": {
    "name": "ipython",
    "version": 3
   },
   "file_extension": ".py",
   "mimetype": "text/x-python",
   "name": "python",
   "nbconvert_exporter": "python",
   "pygments_lexer": "ipython3",
   "version": "3.9.12"
  }
 },
 "nbformat": 4,
 "nbformat_minor": 5
}
