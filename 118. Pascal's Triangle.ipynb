{
 "cells": [
  {
   "cell_type": "code",
   "execution_count": 44,
   "id": "a6f13d52",
   "metadata": {},
   "outputs": [],
   "source": [
    "def generate(numRows):\n",
    "    if numRows == 1:\n",
    "        return [[1]]\n",
    "    elif numRows == 2:\n",
    "        return [[1], [1,1]]\n",
    "    else:\n",
    "        start = [[1], [1,1]]\n",
    "        \n",
    "        for row in range(3,numRows+1):\n",
    "            print('row', row)\n",
    "            \n",
    "            add = [1]*row\n",
    "            \n",
    "            for i in range(1,len(add)-1):\n",
    "                add[i] = start[row-2][i] + start[row-2][i-1]\n",
    "            \n",
    "            start.append(add)\n",
    "        return start\n"
   ]
  }
 ],
 "metadata": {
  "kernelspec": {
   "display_name": "Python 3 (ipykernel)",
   "language": "python",
   "name": "python3"
  },
  "language_info": {
   "codemirror_mode": {
    "name": "ipython",
    "version": 3
   },
   "file_extension": ".py",
   "mimetype": "text/x-python",
   "name": "python",
   "nbconvert_exporter": "python",
   "pygments_lexer": "ipython3",
   "version": "3.9.12"
  }
 },
 "nbformat": 4,
 "nbformat_minor": 5
}
