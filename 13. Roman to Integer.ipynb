{
 "cells": [
  {
   "cell_type": "code",
   "execution_count": 23,
   "id": "a73ed706",
   "metadata": {},
   "outputs": [],
   "source": [
    "def romanToInt(s):\n",
    "\n",
    "    roman_map = {'I' :  1,\n",
    "                 'V' : 5,\n",
    "                 'X' : 10,\n",
    "                 'L' : 50,\n",
    "                 'C' : 100,\n",
    "                 'D' : 500,\n",
    "                 'M' : 1000}\n",
    "\n",
    "    sub_vals = {'I' : ['V', 'X'],\n",
    "                'X' : ['L', 'C'],\n",
    "                'C' : ['D', 'M']}\n",
    "\n",
    "    i = 0\n",
    "    sum_val = 0\n",
    "\n",
    "    while i < len(s):\n",
    "        print(i)\n",
    "        if (s[i] in list(sub_vals.keys())) and (i < len(s) - 1):\n",
    "            print(s[i+1])\n",
    "            if s[i+1] in sub_vals[s[i]]:\n",
    "                sum_val += roman_map[s[i+1]] - roman_map[s[i]]\n",
    "                i += 2\n",
    "            else:\n",
    "                sum_val += roman_map[s[i]]\n",
    "                i +=1\n",
    "        else:\n",
    "            sum_val += roman_map[s[i]]\n",
    "            i +=1\n",
    "\n",
    "    return sum_val"
   ]
  }
 ],
 "metadata": {
  "kernelspec": {
   "display_name": "Python 3 (ipykernel)",
   "language": "python",
   "name": "python3"
  },
  "language_info": {
   "codemirror_mode": {
    "name": "ipython",
    "version": 3
   },
   "file_extension": ".py",
   "mimetype": "text/x-python",
   "name": "python",
   "nbconvert_exporter": "python",
   "pygments_lexer": "ipython3",
   "version": "3.9.7"
  }
 },
 "nbformat": 4,
 "nbformat_minor": 5
}
