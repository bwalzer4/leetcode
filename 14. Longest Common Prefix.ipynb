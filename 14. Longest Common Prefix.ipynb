{
 "cells": [
  {
   "cell_type": "code",
   "execution_count": 36,
   "id": "45fb6f0a",
   "metadata": {},
   "outputs": [],
   "source": [
    "def longestCommonPrefix(strs):\n",
    "    \n",
    "    longst_str = min(strs, key = len)\n",
    "    longst_len = len(longst_str)\n",
    "    \n",
    "    other_strs = [x for x in strs if x != longst_str]\n",
    "    \n",
    "    prefix = \"\"\n",
    "    \n",
    "    for i in range(0, longst_len):\n",
    "\n",
    "        prefix = longst_str[0:longst_len-i]\n",
    "\n",
    "        find_lst = [1 if x[0:longst_len-i]==prefix else 0 for x in other_strs]\n",
    "\n",
    "        if sum(find_lst) == len(other_strs):\n",
    "            \n",
    "            return prefix\n",
    "            \n",
    "        \n",
    "    \n",
    "    return \"\""
   ]
  },
  {
   "cell_type": "code",
   "execution_count": 37,
   "id": "d59f856b",
   "metadata": {},
   "outputs": [],
   "source": [
    "test = [\"flower\",\"flow\",\"flight\"]"
   ]
  },
  {
   "cell_type": "code",
   "execution_count": 38,
   "id": "2bfe441e",
   "metadata": {},
   "outputs": [
    {
     "data": {
      "text/plain": [
       "'fl'"
      ]
     },
     "execution_count": 38,
     "metadata": {},
     "output_type": "execute_result"
    }
   ],
   "source": [
    "longestCommonPrefix(test)"
   ]
  },
  {
   "cell_type": "code",
   "execution_count": 16,
   "id": "4b783b28",
   "metadata": {},
   "outputs": [
    {
     "ename": "AttributeError",
     "evalue": "'list' object has no attribute 'find'",
     "output_type": "error",
     "traceback": [
      "\u001b[1;31m---------------------------------------------------------------------------\u001b[0m",
      "\u001b[1;31mAttributeError\u001b[0m                            Traceback (most recent call last)",
      "\u001b[1;32mC:\\Users\\BENJAM~1\\AppData\\Local\\Temp/ipykernel_16180/3294369687.py\u001b[0m in \u001b[0;36m<module>\u001b[1;34m\u001b[0m\n\u001b[1;32m----> 1\u001b[1;33m \u001b[0mtest\u001b[0m\u001b[1;33m.\u001b[0m\u001b[0mfind\u001b[0m\u001b[1;33m(\u001b[0m\u001b[1;34m'fl'\u001b[0m\u001b[1;33m)\u001b[0m\u001b[1;33m\u001b[0m\u001b[1;33m\u001b[0m\u001b[0m\n\u001b[0m",
      "\u001b[1;31mAttributeError\u001b[0m: 'list' object has no attribute 'find'"
     ]
    }
   ],
   "source": [
    "[1 if x if]"
   ]
  },
  {
   "cell_type": "code",
   "execution_count": 12,
   "id": "42a64270",
   "metadata": {},
   "outputs": [],
   "source": [
    "f = 'flow'"
   ]
  },
  {
   "cell_type": "code",
   "execution_count": 15,
   "id": "dfec1a0e",
   "metadata": {},
   "outputs": [
    {
     "data": {
      "text/plain": [
       "-1"
      ]
     },
     "execution_count": 15,
     "metadata": {},
     "output_type": "execute_result"
    }
   ],
   "source": [
    "f.find('02')"
   ]
  },
  {
   "cell_type": "code",
   "execution_count": null,
   "id": "efb2737c",
   "metadata": {},
   "outputs": [],
   "source": []
  }
 ],
 "metadata": {
  "kernelspec": {
   "display_name": "Python 3 (ipykernel)",
   "language": "python",
   "name": "python3"
  },
  "language_info": {
   "codemirror_mode": {
    "name": "ipython",
    "version": 3
   },
   "file_extension": ".py",
   "mimetype": "text/x-python",
   "name": "python",
   "nbconvert_exporter": "python",
   "pygments_lexer": "ipython3",
   "version": "3.9.7"
  }
 },
 "nbformat": 4,
 "nbformat_minor": 5
}
