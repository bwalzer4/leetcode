{
 "cells": [
  {
   "cell_type": "code",
   "execution_count": 6,
   "id": "f46db450",
   "metadata": {},
   "outputs": [],
   "source": [
    "def climbStairs(n):\n",
    "    \n",
    "    if n <= 2:\n",
    "        return n\n",
    "    \n",
    "    else:\n",
    "        stairs = [1,2]\n",
    "        \n",
    "        i = 2\n",
    "        while len(stairs) < n:\n",
    "            stairs.append(stairs[i-2] + stairs[i-1])\n",
    "            i += 1\n",
    "            \n",
    "        return stairs[n-1]\n",
    "    "
   ]
  },
  {
   "cell_type": "code",
   "execution_count": 16,
   "id": "e6a327c0",
   "metadata": {},
   "outputs": [
    {
     "data": {
      "text/plain": [
       "5"
      ]
     },
     "execution_count": 16,
     "metadata": {},
     "output_type": "execute_result"
    }
   ],
   "source": [
    "climbStairs(4)"
   ]
  },
  {
   "cell_type": "code",
   "execution_count": 15,
   "id": "95a84f0e",
   "metadata": {},
   "outputs": [],
   "source": [
    "def climbStairs(n):\n",
    "    \n",
    "    if n <= 2:\n",
    "        return n\n",
    "    \n",
    "    else:\n",
    "        def recursor(stairs):\n",
    "            if len(stairs) == n:\n",
    "                return stairs\n",
    "            else:\n",
    "                stairs.append(stairs[len(stairs)-2] + stairs[len(stairs)-1])\n",
    "                return recursor(stairs)\n",
    "        strs = recursor([1,2])\n",
    "        return strs[n-1]"
   ]
  },
  {
   "cell_type": "code",
   "execution_count": 17,
   "id": "81c34a06",
   "metadata": {},
   "outputs": [
    {
     "data": {
      "text/plain": [
       "165580141"
      ]
     },
     "execution_count": 17,
     "metadata": {},
     "output_type": "execute_result"
    }
   ],
   "source": [
    "climbStairs(40)"
   ]
  }
 ],
 "metadata": {
  "kernelspec": {
   "display_name": "Python 3 (ipykernel)",
   "language": "python",
   "name": "python3"
  },
  "language_info": {
   "codemirror_mode": {
    "name": "ipython",
    "version": 3
   },
   "file_extension": ".py",
   "mimetype": "text/x-python",
   "name": "python",
   "nbconvert_exporter": "python",
   "pygments_lexer": "ipython3",
   "version": "3.9.12"
  }
 },
 "nbformat": 4,
 "nbformat_minor": 5
}
